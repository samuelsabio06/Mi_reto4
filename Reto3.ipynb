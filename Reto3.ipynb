{
 "cells": [
  {
   "cell_type": "markdown",
   "metadata": {
    "id": "yuYVh0rG6dwS"
   },
   "source": [
    "### Punto 1\n",
    "##### Dado un número entero, determinar si ese número corresponde al código ASCII de una vocal minúscula."
   ]
  },
  {
   "cell_type": "code",
   "execution_count": 11,
   "metadata": {
    "colab": {
     "base_uri": "https://localhost:8080/"
    },
    "id": "7y2hB3z86zxA",
    "outputId": "b7c15c57-1f9a-4751-878b-3af68d558717"
   },
   "outputs": [
    {
     "name": "stdout",
     "output_type": "stream",
     "text": [
      "El numero 97 corresponde al codigo ASCII de una vocal minuscula\n",
      "la vocal es \"a\"\n"
     ]
    }
   ],
   "source": [
    "n = int\n",
    "vocales = [97, 101, 105, 111, 117]\n",
    "n = int(input(\"Ingrese un numero entero: \"))\n",
    "\n",
    "\n",
    "if n in vocales:\n",
    "  print(\"El numero \" + str(n)+ \" corresponde al codigo ASCII de una vocal minuscula\")\n",
    "  print (\"la vocal es \" + chr(34) + chr(n) + chr (34))\n",
    "else:\n",
    "  print (\"El numero \" + str(n)+ \" NO corresponde al codigo ASCII de ninguna vocal :( \")\n",
    "\n"
   ]
  },
  {
   "cell_type": "markdown",
   "metadata": {
    "id": "WyqdmbmaA9R5"
   },
   "source": [
    "### Punto 2\n",
    "##### Dada una cadena de longitud 1, determine si el código ASCII de primera letra de la cadena es par o no."
   ]
  },
  {
   "cell_type": "code",
   "execution_count": 1,
   "metadata": {
    "colab": {
     "base_uri": "https://localhost:8080/"
    },
    "id": "oXeTycOwCYub",
    "outputId": "a3b8adff-d343-47eb-ce65-3255cf5c6632"
   },
   "outputs": [
    {
     "name": "stdout",
     "output_type": "stream",
     "text": [
      "Ingrese un caracter: 3\n",
      "El primer numero del codigo ASCII del caracter es par\n"
     ]
    }
   ],
   "source": [
    "\n",
    "#! Intento 1\n",
    "\n",
    "n = input(\"Ingrese un caracter: \")\n",
    "\n",
    "if (ord (n))%2 == 0: #Esta operacion no excluye los numeros pares que empiezan por uno par, por ejemplo 132\n",
    "  print (\"El primer numero del codigo ASCII del caracter es par\")\n",
    "else:\n",
    "    print (\"El primer numero del codigo ASCII del caracter es par\")"
   ]
  },
  {
   "cell_type": "code",
   "execution_count": 12,
   "metadata": {
    "colab": {
     "base_uri": "https://localhost:8080/"
    },
    "id": "XythDhsDILg8",
    "outputId": "7f271869-e345-45bb-9db4-e6fd8c5462cd"
   },
   "outputs": [
    {
     "name": "stdout",
     "output_type": "stream",
     "text": [
      "El primer numero del codigo ASCII del caracter es par\n"
     ]
    }
   ],
   "source": [
    "\n",
    "#! Intento 2\n",
    "\n",
    "n = input(\"Ingrese un caracter: \")\n",
    "cifra = [0, 2, 4, 6, 8, 20, 21, 22, 23, 24, 25, 26, 27, 28, 29, 40, 41, 42, 43, 44, 45, 46, 47, 48, 49, 60, 61, 62, 63, 64, 65, 66, 67, 68, 69, 80, 81, 82, 83, 84, 85, 86, 87, 88, 89, 200, 201, 202, 203, 204, 205, 206, 207, 208, 209, 220, 221, 222, 223, 224, 225, 226, 227, 228, 229, 240, 241, 242, 243, 244, 245, 246, 247, 248, 249]\n",
    "\n",
    "cifra_ascii = ord (n)\n",
    "\n",
    "if cifra_ascii in cifra:\n",
    "  print (\"El primer numero del codigo ASCII del caracter es par\")\n",
    "\n",
    "else:\n",
    "  print (\"El primer numero del codigo ASCII del caracter es impar\")"
   ]
  },
  {
   "cell_type": "markdown",
   "metadata": {
    "id": "ffDb6t6T9don"
   },
   "source": [
    "# Punto 3\n",
    "##### Dado un carácter, construya un programa en Python para determinar si el carácter es un dígito o no.\n",
    "\n"
   ]
  },
  {
   "cell_type": "code",
   "execution_count": 59,
   "metadata": {
    "colab": {
     "base_uri": "https://localhost:8080/"
    },
    "id": "2kFFTH0P9oh_",
    "outputId": "a5e62880-c231-4b46-b34e-d7a4c3641458"
   },
   "outputs": [
    {
     "name": "stdout",
     "output_type": "stream",
     "text": [
      "Ingrese un cáracter: a\n",
      "El cáracter ingresado NO corresponde a un digito\n"
     ]
    }
   ],
   "source": [
    "n = input(\"Ingrese un cáracter: \")\n",
    "digitos = [48, 49, 50, 51, 52, 53, 54, 55, 56, 57]\n",
    "\n",
    "\n",
    "if ord(n) in digitos:\n",
    "  print (\"El cáracter ingresado corresponde a un digito\")\n",
    "else:\n",
    "  print (\"El cáracter ingresado NO corresponde a un digito\")"
   ]
  },
  {
   "cell_type": "markdown",
   "metadata": {
    "id": "KZNmKachIn2m"
   },
   "source": [
    "# Punto 4\n",
    "##### Realice un programa que lea dos números reales y determine si el primero es múltiplo del segundo."
   ]
  },
  {
   "cell_type": "code",
   "execution_count": 14,
   "metadata": {
    "colab": {
     "base_uri": "https://localhost:8080/"
    },
    "id": "K3r4NwzXIvO-",
    "outputId": "2163a12c-4fcc-4343-ba1e-a7f711e73c63"
   },
   "outputs": [
    {
     "name": "stdout",
     "output_type": "stream",
     "text": [
      "El numero 79.0 NO es multiplo de 4.0\n"
     ]
    }
   ],
   "source": [
    "x: float\n",
    "y: float\n",
    "\n",
    "\n",
    "x = float(input(\"Ingrese el primero numero real: \"))\n",
    "y = float(input(\"Ingrese el segundo numero real: \"))\n",
    "\n",
    "if x%y == 0:\n",
    "  print (\"El numero \"+ str (x)+ \" es multiplo de \" + str (y))\n",
    "else:\n",
    "  print (\"El numero \"+str (x)+ \" NO es multiplo de \" + str (y))"
   ]
  },
  {
   "cell_type": "markdown",
   "metadata": {
    "id": "E26WUgfaeYZa"
   },
   "source": [
    "# Punto 5\n",
    "##### Dado un número real x, construya un programa que permita determinar si el número es positivo, negativo o cero. Para cada caso de debe imprimir el texto que se especifica a continuación:\n",
    "\n",
    "- Positivo: \"El número x es positivo\"\n",
    "- Negativo: \"El número x es negativo\"\n",
    "- Cero: \"El número x es el neutro para la suma\""
   ]
  },
  {
   "cell_type": "code",
   "execution_count": 16,
   "metadata": {
    "colab": {
     "base_uri": "https://localhost:8080/"
    },
    "id": "OeD99lq7ekwi",
    "outputId": "465704fb-6747-4066-a886-e9f646ca7993"
   },
   "outputs": [
    {
     "name": "stdout",
     "output_type": "stream",
     "text": [
      "El numero 2.0 es positivo\n"
     ]
    }
   ],
   "source": [
    "x: float\n",
    "x= float(input(\"Ingrese un numero real: \"))\n",
    "\n",
    "if x < 0:\n",
    "  print(\"El numero \"+ str(x)+ \" es negativo\")\n",
    "elif x > 0:\n",
    "  print (\"El numero \"+ str(x)+ \" es positivo\")\n",
    "else:\n",
    "  print (\"El numero \"+ str (x)+ \" es neutro para la suma\")"
   ]
  },
  {
   "cell_type": "markdown",
   "metadata": {},
   "source": [
    "# Punto 6\n",
    "##### Dado el centro y el radio de un círculo, determinar si un punto de R2 pertenece o no al interior del círculo.\n",
    "\n"
   ]
  },
  {
   "cell_type": "code",
   "execution_count": 9,
   "metadata": {},
   "outputs": [
    {
     "name": "stdout",
     "output_type": "stream",
     "text": [
      "El punto está fuera del círculo.\n"
     ]
    }
   ],
   "source": [
    "def ecu_circu (h: float, k: float, radio: float, x: float, y: float) -> bool:\n",
    "    \n",
    "   r2 = ((x-h)**2)+((y-k)**2)\n",
    "   return  r2<= radio**2\n",
    "\n",
    "h: float(input(\"Valor en x del centro de la circunferencia: \"))\n",
    "k: float (input(\"Valor en y del centro de la circunferencia: \"))\n",
    "radio: float(input(\"radio de la circunferencia: \"))\n",
    "x: float(input(\"Ingrese la coordenada en x del punto a consultar: \"))\n",
    "x: float (input(\"Ingrese la coordenada en y del punto a consultar: \"))\n",
    "    \n",
    "\n",
    "if ecu_circu(h, k, radio, x, y):\n",
    "      print(\"El punto está dentro del círculo.\")\n",
    "else:\n",
    "      print(\"El punto está fuera del círculo.\")\n",
    "\n",
    "\n",
    "\n"
   ]
  },
  {
   "cell_type": "markdown",
   "metadata": {},
   "source": [
    "# Punto 7\n",
    "##### Dadas tres longitudes positivas, determinar si con esas longitudes se puede construir un triángulo."
   ]
  },
  {
   "cell_type": "code",
   "execution_count": 13,
   "metadata": {},
   "outputs": [
    {
     "name": "stdout",
     "output_type": "stream",
     "text": [
      "Si es posible formar un triangulo\n"
     ]
    }
   ],
   "source": [
    "linea_a = float (input(\"Ingrese la medida de la priemera linea\"))\n",
    "linea_b= float (input(\"Ingrese la medida de la segunda linea\"))\n",
    "linea_c= float (input(\"Ingrese la medida de la tercera linea\"))\n",
    "\n",
    "if linea_a < 0 and linea_b < 0 and linea_c < 0:\n",
    "    print (\"Las distancias deben ser positivas y diferentes a cero\")\n",
    "elif linea_a + linea_b > linea_c and linea_b + linea_c > linea_a and linea_a + linea_c > linea_b:\n",
    "    print (\"Si es posible formar un triangulo\")\n",
    "else:\n",
    "    print (\"?\")\n"
   ]
  },
  {
   "cell_type": "markdown",
   "metadata": {},
   "source": [
    "# Punto 8\n",
    "##### Escriba un programa que reciba el nombre en minúsculas de un país de America y retorne la ciudad capital, si el país no pertenece al continente debe arrojar país no identificado (Utilice match-case)."
   ]
  },
  {
   "cell_type": "code",
   "execution_count": 17,
   "metadata": {},
   "outputs": [
    {
     "name": "stdout",
     "output_type": "stream",
     "text": [
      "Lima\n"
     ]
    }
   ],
   "source": [
    "pais= input (\"Ingrese un país de america (en minusculas y sin tilde\").strip()\n",
    "\n",
    "match pais:\n",
    "    case \"canada\":\n",
    "        print (\"Ottawa\")\n",
    "    case \"estados unidos\":\n",
    "        print (\"Washingtong DC\")\n",
    "    case \"mexico\":\n",
    "        print (\"Ciudad de México\")\n",
    "    case \"Belice\": \n",
    "        print (\"Belmopán\")\n",
    "    case \"costa rica\":\n",
    "        print (\"San José\")\n",
    "    case \"guatemala\":\n",
    "        print (\"Ciudad de Guatenala\")\n",
    "    case \"honduras\":\n",
    "        print (\"Tegucigalpa\")\n",
    "    case \"nicaragua\":\n",
    "        print (\"Managua\")\n",
    "    case \"panama\":\n",
    "        print (\"Ciudad de panamá\")\n",
    "    case \"antigua y barbuda\":\n",
    "        print (\"Saint John's\")\n",
    "    case \"bahamas\":\n",
    "        print (\"Nasaú\")\n",
    "    case \"barbados\":\n",
    "        print (\"Bridgetown\")\n",
    "    case \"cuba\":\n",
    "        print (\"La Habana\")\n",
    "    case \"dominica\":\n",
    "        print (\"Roseau\")\n",
    "    case \"granada\":\n",
    "        print(\"Saint George\")\n",
    "    case \"haiti\":\n",
    "        print(\"Puerto Príncipe\")\n",
    "    case \"jamaica\":\n",
    "        print(\"Kingston\")\n",
    "    case \"republica dominicana\":\n",
    "        print(\"Santo Domingo\")\n",
    "    case \"san cristobal y nieves\":\n",
    "        print(\"Basseterre\")\n",
    "    case \"santa lucia\":\n",
    "        print(\"Castries\")\n",
    "    case \"san vicente y las granadinas\":\n",
    "        print(\"Kingstown\")\n",
    "    case \"trinidad y tobago\":\n",
    "        print(\"Puerto España\")\n",
    "    case \"argentina\":\n",
    "        print(\"Buenos Aires\")\n",
    "    case \"bolivia\":\n",
    "        print(\"La Paz\")\n",
    "    case \"brasil\":\n",
    "        print(\"Brasilia\")\n",
    "    case \"chile\":\n",
    "        print(\"Santiago\")\n",
    "    case \"colombia\":\n",
    "        print(\"Bogotá\")\n",
    "    case \"ecuador\":\n",
    "        print(\"Quito\")\n",
    "    case \"guyana\":\n",
    "        print(\"Georgetown\")\n",
    "    case \"paraguay\":\n",
    "        print(\"Asunción\")\n",
    "    case \"peru\":\n",
    "        print(\"Lima\")\n",
    "    case \"surinam\":\n",
    "        print(\"Paramaribo\")\n",
    "    case \"uruguay\":\n",
    "        print(\"Montevideo\")\n",
    "    case \"venezuela\":\n",
    "        print(\"Caracas\")\n",
    "    case _:\n",
    "        print(\"Pais no identificado\")\n",
    "    \n",
    "    \n"
   ]
  }
 ],
 "metadata": {
  "colab": {
   "provenance": []
  },
  "kernelspec": {
   "display_name": "Python 3",
   "name": "python3"
  },
  "language_info": {
   "codemirror_mode": {
    "name": "ipython",
    "version": 3
   },
   "file_extension": ".py",
   "mimetype": "text/x-python",
   "name": "python",
   "nbconvert_exporter": "python",
   "pygments_lexer": "ipython3",
   "version": "3.10.11"
  }
 },
 "nbformat": 4,
 "nbformat_minor": 0
}
